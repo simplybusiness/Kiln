{
 "cells": [
  {
   "cell_type": "markdown",
   "metadata": {},
   "source": [
    "# Data Analysis Setup\n",
    "\n",
    "This notebook is provided to help you quickly acquire the NIST NVD data feeds and git repos needed for the main data analysis notebook to function correctly."
   ]
  },
  {
   "cell_type": "code",
   "execution_count": null,
   "metadata": {},
   "outputs": [],
   "source": [
    "import requests\n",
    "from pygit2 import clone_repository\n",
    "import os"
   ]
  },
  {
   "cell_type": "code",
   "execution_count": null,
   "metadata": {},
   "outputs": [],
   "source": [
    "output_dir = \"/home/jovyan/vulndata\"\n",
    "try:\n",
    "    os.mkdir(output_dir)\n",
    "except:\n",
    "    pass"
   ]
  },
  {
   "cell_type": "code",
   "execution_count": null,
   "metadata": {},
   "outputs": [],
   "source": [
    "base_url = \"https://nvd.nist.gov/feeds/json/cve/1.1/\"\n",
    "for x in range(2002, 2021):\n",
    "    file_name = f\"nvdcve-1.1-{x}.json.gz\"\n",
    "    with requests.get(f\"{base_url}{file_name}\", stream=True) as r:\n",
    "        with open(f\"{output_dir}/{file_name}\", 'wb') as file:\n",
    "            file.write(r.content)\n",
    "\n",
    "file_name = f\"nvdcve-1.1-modified.json.gz\"\n",
    "with requests.get(f\"{base_url}{file_name}\", stream=True) as r:\n",
    "    with open(f\"{output_dir}/{file_name}\", 'wb') as file:\n",
    "        file.write(r.content)"
   ]
  },
  {
   "cell_type": "code",
   "execution_count": null,
   "metadata": {},
   "outputs": [],
   "source": [
    "repo_url = \"https://github.com/OWASP/railsgoat.git\"\n",
    "repo_path = \"/home/jovyan/railsgoat.git\"\n",
    "clone_repository(repo_url, repo_path, bare=True)"
   ]
  },
  {
   "cell_type": "code",
   "execution_count": null,
   "metadata": {},
   "outputs": [],
   "source": [
    "repo_url = \"https://github.com/tootsuite/mastodon.git\"\n",
    "repo_path = \"/home/jovyan/mastodon.git\"\n",
    "clone_repository(repo_url, repo_path, bare=True)"
   ]
  },
  {
   "cell_type": "code",
   "execution_count": null,
   "metadata": {},
   "outputs": [],
   "source": [
    "repo_url = \"https://gitlab.com/gitlab-org/gitlab.git\"\n",
    "repo_path = \"/home/jovyan/gitlab.git\"\n",
    "clone_repository(repo_url, repo_path, bare=True)"
   ]
  },
  {
   "cell_type": "code",
   "execution_count": null,
   "metadata": {},
   "outputs": [],
   "source": []
  }
 ],
 "metadata": {
  "kernelspec": {
   "display_name": "Python 3",
   "language": "python",
   "name": "python3"
  },
  "language_info": {
   "codemirror_mode": {
    "name": "ipython",
    "version": 3
   },
   "file_extension": ".py",
   "mimetype": "text/x-python",
   "name": "python",
   "nbconvert_exporter": "python",
   "pygments_lexer": "ipython3",
   "version": "3.7.6"
  }
 },
 "nbformat": 4,
 "nbformat_minor": 2
}
